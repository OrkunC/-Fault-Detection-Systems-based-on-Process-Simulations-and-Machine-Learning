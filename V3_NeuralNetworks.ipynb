{
 "cells": [
  {
   "cell_type": "code",
   "execution_count": 1,
   "metadata": {},
   "outputs": [],
   "source": [
    "import pandas as pd\n",
    "import numpy as np\n",
    "from sklearn.model_selection import train_test_split\n",
    "from sklearn.preprocessing import StandardScaler, MinMaxScaler\n",
    "from tensorflow.keras.models import Sequential\n",
    "from tensorflow.keras.layers import Input,Dense, Conv1D, Flatten, MaxPooling1D, Dropout\n",
    "from tensorflow.keras.optimizers import Adam\n",
    "from sklearn.metrics import mean_squared_error\n",
    "import matplotlib.pyplot as plt\n",
    "from tensorflow.keras.metrics import RootMeanSquaredError\n",
    "import seaborn as sns\n"
   ]
  },
  {
   "cell_type": "code",
   "execution_count": 2,
   "metadata": {},
   "outputs": [],
   "source": [
    "#Importing data\n",
    "data = pd.read_excel(\"C:/Users/orkun/OneDrive/Masaüstü/Ens 492/Code/Last versions/Simdatawithoutspindlevar.xlsx\")\n",
    "data = data.sample(n=35000, random_state=42)# Sampling random 35000 simulations for increasing the speed of ML training process \n",
    "\n",
    "data.head()\n",
    "\n",
    "#splitting features and targets (ignore spindle speed due to it is same for all the simulations)\n",
    "X = data.drop(columns=['Spindle_Speed', 'Feed_Rate', 'Axial_Depth', 'Radial_Depth'])\n",
    "y = data[['Feed_Rate', 'Axial_Depth', 'Radial_Depth']]\n",
    "\n",
    "# Scaling\n",
    "scaler_X = MinMaxScaler()\n",
    "scaler_y = MinMaxScaler()\n",
    "\n",
    "X_standardized = scaler_X.fit_transform(X)\n",
    "y_standardized = scaler_y.fit_transform(y)\n",
    "\n",
    "#Splitting train and test sets (%80, %20)\n",
    "X_train, X_test, y_train, y_test = train_test_split(X_standardized, y_standardized, test_size=0.2, random_state=42)\n",
    "\n",
    "# Reshaping the data for Neural Networks\n",
    "X_train = X_train.reshape((X_train.shape[0], X_train.shape[1], 1))\n",
    "X_test = X_test.reshape((X_test.shape[0], X_test.shape[1], 1))\n"
   ]
  },
  {
   "cell_type": "code",
   "execution_count": 3,
   "metadata": {},
   "outputs": [],
   "source": [
    "# Model Definition\n",
    "def create_model(hidden_units=64, dropout_rate=0.2, learning_rate=0.001):\n",
    "    model = Sequential()\n",
    "    model.add(Input(shape=(X_train.shape[1],)))\n",
    "    model.add(Dense(hidden_units, activation='relu'))\n",
    "    model.add(Dropout(dropout_rate))\n",
    "    model.add(Dense(hidden_units*2, activation='relu'))\n",
    "    model.add(Dropout(dropout_rate))\n",
    "    model.add(Dense(hidden_units, activation='relu'))\n",
    "    model.add(Dense(y_train.shape[1], activation='linear')) # Çıkış katmanı, tahmin edilecek değer sayısı\n",
    "    optimizer = Adam(learning_rate=learning_rate)\n",
    "    model.compile(optimizer=optimizer, loss='mse', metrics=[RootMeanSquaredError()])\n",
    "    return model"
   ]
  },
  {
   "cell_type": "code",
   "execution_count": 7,
   "metadata": {},
   "outputs": [],
   "source": [
    "# Hyperparameters\n",
    "hyperparameters = {\n",
    "    'hidden_units': [32, 64],\n",
    "    'dropout_rate': [0.2, 0.3],\n",
    "    'learning_rate': [0.001, 0.0001]\n",
    "}\n",
    "\n",
    "results = []\n",
    "best_model = None\n",
    "best_params = None\n",
    "best_rmse = float('inf')\n",
    "\n",
    "num_epochs=30\n",
    "# Testing different hyperparameter combinations\n",
    "for hidden_units in hyperparameters['hidden_units']:\n",
    "    for dropout_rate in hyperparameters['dropout_rate']:\n",
    "        for learning_rate in hyperparameters['learning_rate']:\n",
    "            model = create_model(hidden_units=hidden_units, dropout_rate=dropout_rate, learning_rate=learning_rate)\n",
    "            history = model.fit(X_train, y_train, epochs=num_epochs, batch_size=32, validation_split=0.2, verbose=0)\n",
    "            loss, rmse = model.evaluate(X_test, y_test, verbose=0)\n",
    "            results.append({\n",
    "                'hidden_units': hidden_units,\n",
    "                'dropout_rate': dropout_rate,\n",
    "                'learning_rate': learning_rate,\n",
    "                'rmse': rmse\n",
    "            })\n",
    "\n",
    "            if rmse < best_rmse:\n",
    "                best_rmse = rmse\n",
    "                best_model = model\n",
    "                best_params = {\n",
    "                    'hidden_units': hidden_units,\n",
    "                    'dropout_rate': dropout_rate,\n",
    "                    'learning_rate': learning_rate\n",
    "                }\n",
    "\n",
    "\n",
    "results_df = pd.DataFrame(results)\n",
    "\n"
   ]
  },
  {
   "cell_type": "code",
   "execution_count": 8,
   "metadata": {},
   "outputs": [
    {
     "name": "stdout",
     "output_type": "stream",
     "text": [
      "Best Parameters: {'hidden_units': 64, 'dropout_rate': 0.2, 'learning_rate': 0.0001}\n",
      "\u001b[1m219/219\u001b[0m \u001b[32m━━━━━━━━━━━━━━━━━━━━\u001b[0m\u001b[37m\u001b[0m \u001b[1m0s\u001b[0m 1ms/step\n",
      "RMSE for Feed Rate: 0.011594382900001693\n",
      "RMSE for Axial Depth: 0.387812953352265\n",
      "RMSE for Radial Depth: 0.1979190036574621\n"
     ]
    }
   ],
   "source": [
    "print(f\"Best Parameters: {best_params}\")\n",
    "\n",
    "# Making predictions with the best model\n",
    "y_pred = best_model.predict(X_test)\n",
    "\n",
    "# Inversely transforming the test data to get the original scale values\n",
    "y_test_unscaled = scaler_y.inverse_transform(y_test)\n",
    "y_pred_unscaled = scaler_y.inverse_transform(y_pred)\n",
    "\n",
    "# RMSE Calculation\n",
    "rmse_feed_rate = np.sqrt(np.mean((y_test_unscaled[:, 0] - y_pred_unscaled[:, 0])**2))\n",
    "rmse_axial_depth = np.sqrt(np.mean((y_test_unscaled[:, 1] - y_pred_unscaled[:, 1])**2))\n",
    "rmse_radial_depth = np.sqrt(np.mean((y_test_unscaled[:, 2] - y_pred_unscaled[:, 2])**2))\n",
    "\n",
    "print(f\"RMSE for Feed Rate: {rmse_feed_rate}\")\n",
    "print(f\"RMSE for Axial Depth: {rmse_axial_depth}\")\n",
    "print(f\"RMSE for Radial Depth: {rmse_radial_depth}\")\n"
   ]
  },
  {
   "cell_type": "code",
   "execution_count": 9,
   "metadata": {},
   "outputs": [
    {
     "name": "stdout",
     "output_type": "stream",
     "text": [
      "Correct classification rate(%10): 61.21%\n"
     ]
    }
   ],
   "source": [
    "#Error margin\n",
    "error_margin = 0.1\n",
    "y_pred_lower = y_pred_unscaled * (1 - error_margin)\n",
    "y_pred_upper = y_pred_unscaled * (1 + error_margin)\n",
    "\n",
    "# Function to determine given values are valid or not\n",
    "def is_within_error_margin(y_true, y_pred_lower, y_pred_upper):\n",
    "    return np.all((y_true >= y_pred_lower) & (y_true <= y_pred_upper), axis=1)\n",
    "\n",
    "# Doğru sınıflandırma oranı hesaplama\n",
    "correct_classifications = is_within_error_margin(y_test_unscaled, y_pred_lower, y_pred_upper)\n",
    "accuracy = np.mean(correct_classifications) * 100\n",
    "\n",
    "print(f\"Correct classification rate(%10): {accuracy:.2f}%\")\n",
    "\n"
   ]
  }
 ],
 "metadata": {
  "kernelspec": {
   "display_name": "Python 3",
   "language": "python",
   "name": "python3"
  },
  "language_info": {
   "codemirror_mode": {
    "name": "ipython",
    "version": 3
   },
   "file_extension": ".py",
   "mimetype": "text/x-python",
   "name": "python",
   "nbconvert_exporter": "python",
   "pygments_lexer": "ipython3",
   "version": "3.12.1"
  }
 },
 "nbformat": 4,
 "nbformat_minor": 2
}
