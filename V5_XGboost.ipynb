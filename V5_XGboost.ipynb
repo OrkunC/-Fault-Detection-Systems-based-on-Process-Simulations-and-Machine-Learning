{
 "cells": [
  {
   "cell_type": "code",
   "execution_count": 1,
   "metadata": {},
   "outputs": [],
   "source": [
    "#importing necesary libraries\n",
    "#This code is using XGboost\n",
    "from math import sqrt\n",
    "import pandas as pd\n",
    "import numpy as np\n",
    "from sklearn.model_selection import train_test_split\n",
    "from sklearn.multioutput import MultiOutputRegressor\n",
    "from sklearn.metrics import mean_squared_error, make_scorer\n",
    "from sklearn.model_selection import GridSearchCV\n",
    "from sklearn.preprocessing import MinMaxScaler, StandardScaler\n",
    "import matplotlib.pyplot as plt\n",
    "import xgboost as xgb"
   ]
  },
  {
   "cell_type": "code",
   "execution_count": 2,
   "metadata": {},
   "outputs": [
    {
     "data": {
      "text/html": [
       "<div>\n",
       "<style scoped>\n",
       "    .dataframe tbody tr th:only-of-type {\n",
       "        vertical-align: middle;\n",
       "    }\n",
       "\n",
       "    .dataframe tbody tr th {\n",
       "        vertical-align: top;\n",
       "    }\n",
       "\n",
       "    .dataframe thead th {\n",
       "        text-align: right;\n",
       "    }\n",
       "</style>\n",
       "<table border=\"1\" class=\"dataframe\">\n",
       "  <thead>\n",
       "    <tr style=\"text-align: right;\">\n",
       "      <th></th>\n",
       "      <th>Spindle_Speed</th>\n",
       "      <th>Feed_Rate</th>\n",
       "      <th>Axial_Depth</th>\n",
       "      <th>Radial_Depth</th>\n",
       "      <th>Fx_Max</th>\n",
       "      <th>Fx_Avg</th>\n",
       "      <th>Fy_Max</th>\n",
       "      <th>Fy_Avg</th>\n",
       "      <th>Fz_Max</th>\n",
       "      <th>Fz_Avg</th>\n",
       "    </tr>\n",
       "  </thead>\n",
       "  <tbody>\n",
       "    <tr>\n",
       "      <th>20917</th>\n",
       "      <td>6000</td>\n",
       "      <td>0.02</td>\n",
       "      <td>6.2</td>\n",
       "      <td>4.0</td>\n",
       "      <td>433.815491</td>\n",
       "      <td>229.505084</td>\n",
       "      <td>221.660558</td>\n",
       "      <td>69.372813</td>\n",
       "      <td>80.306306</td>\n",
       "      <td>41.751909</td>\n",
       "    </tr>\n",
       "    <tr>\n",
       "      <th>18857</th>\n",
       "      <td>6000</td>\n",
       "      <td>0.21</td>\n",
       "      <td>5.7</td>\n",
       "      <td>2.4</td>\n",
       "      <td>1438.553906</td>\n",
       "      <td>520.110694</td>\n",
       "      <td>258.731918</td>\n",
       "      <td>7.857160</td>\n",
       "      <td>393.031778</td>\n",
       "      <td>138.975724</td>\n",
       "    </tr>\n",
       "    <tr>\n",
       "      <th>27507</th>\n",
       "      <td>6000</td>\n",
       "      <td>0.19</td>\n",
       "      <td>7.8</td>\n",
       "      <td>7.6</td>\n",
       "      <td>2187.730041</td>\n",
       "      <td>1608.105426</td>\n",
       "      <td>2232.365811</td>\n",
       "      <td>906.923914</td>\n",
       "      <td>820.961197</td>\n",
       "      <td>543.134115</td>\n",
       "    </tr>\n",
       "    <tr>\n",
       "      <th>35527</th>\n",
       "      <td>6000</td>\n",
       "      <td>0.17</td>\n",
       "      <td>9.9</td>\n",
       "      <td>0.8</td>\n",
       "      <td>683.602554</td>\n",
       "      <td>297.031614</td>\n",
       "      <td>236.167651</td>\n",
       "      <td>103.531228</td>\n",
       "      <td>170.085026</td>\n",
       "      <td>73.792460</td>\n",
       "    </tr>\n",
       "    <tr>\n",
       "      <th>29950</th>\n",
       "      <td>6000</td>\n",
       "      <td>0.05</td>\n",
       "      <td>8.5</td>\n",
       "      <td>1.2</td>\n",
       "      <td>457.259638</td>\n",
       "      <td>181.536516</td>\n",
       "      <td>253.900156</td>\n",
       "      <td>98.360450</td>\n",
       "      <td>95.488533</td>\n",
       "      <td>37.919533</td>\n",
       "    </tr>\n",
       "  </tbody>\n",
       "</table>\n",
       "</div>"
      ],
      "text/plain": [
       "       Spindle_Speed  Feed_Rate  Axial_Depth  Radial_Depth       Fx_Max  \\\n",
       "20917           6000       0.02          6.2           4.0   433.815491   \n",
       "18857           6000       0.21          5.7           2.4  1438.553906   \n",
       "27507           6000       0.19          7.8           7.6  2187.730041   \n",
       "35527           6000       0.17          9.9           0.8   683.602554   \n",
       "29950           6000       0.05          8.5           1.2   457.259638   \n",
       "\n",
       "            Fx_Avg       Fy_Max      Fy_Avg      Fz_Max      Fz_Avg  \n",
       "20917   229.505084   221.660558   69.372813   80.306306   41.751909  \n",
       "18857   520.110694   258.731918    7.857160  393.031778  138.975724  \n",
       "27507  1608.105426  2232.365811  906.923914  820.961197  543.134115  \n",
       "35527   297.031614   236.167651  103.531228  170.085026   73.792460  \n",
       "29950   181.536516   253.900156   98.360450   95.488533   37.919533  "
      ]
     },
     "execution_count": 2,
     "metadata": {},
     "output_type": "execute_result"
    }
   ],
   "source": [
    "\n",
    "data = pd.read_excel(\"C:/Users/orkun/OneDrive/Masaüstü/Ens 492/Code/Last versions/Simdatawithoutspindlevar.xlsx\")\n",
    "\n",
    "data = data.sample(n=35000, random_state=42)  # Sampling random 35000 simulations for increasing the training speed of ML training\n",
    "\n",
    "data.head()"
   ]
  },
  {
   "cell_type": "code",
   "execution_count": 3,
   "metadata": {},
   "outputs": [],
   "source": [
    "# Targets and inputs\n",
    "X = data.drop(columns=['Spindle_Speed', 'Feed_Rate', 'Axial_Depth', 'Radial_Depth'])\n",
    "y = data[['Feed_Rate', 'Axial_Depth', 'Radial_Depth']]\n",
    "\n",
    "# Scaling data\n",
    "scaler_X = StandardScaler()\n",
    "scaler_y = StandardScaler()\n",
    "\n",
    "X_standardized = scaler_X.fit_transform(X)\n",
    "y_standardized = scaler_y.fit_transform(y)\n",
    "\n",
    "# Train/Test split %80/%20\n",
    "X_train, X_test, y_train, y_test = train_test_split(X_standardized, y_standardized, test_size=0.2, random_state=42)\n"
   ]
  },
  {
   "cell_type": "code",
   "execution_count": 4,
   "metadata": {},
   "outputs": [
    {
     "name": "stdout",
     "output_type": "stream",
     "text": [
      "Fitting 3 folds for each of 36 candidates, totalling 108 fits\n",
      "Best parameters: {'gamma': 0, 'max_depth': 7, 'min_child_weight': 5, 'n_estimators': 50}\n"
     ]
    }
   ],
   "source": [
    "# Creating the XGBoost model\n",
    "xgb_model = xgb.XGBRegressor(objective='reg:squarederror')\n",
    "\n",
    "# Hyperparameter grid\n",
    "param_grid = {\n",
    "    'n_estimators': [5,10,50,100],  # Number of trees\n",
    "    'max_depth': [3, 5, 7, 10],   # Maximum depth of each tree\n",
    "    # 'learning_rate': [0.01, 0.05, 0.1, 0.2],  # Learning rate\n",
    "    # 'subsample': [0.6, 0.8, 1.0],  # Percentage of training samples\n",
    "    # 'colsample_bytree': [0.6, 0.8, 1.0],  # Percentage of features used in each tree\n",
    "    'gamma': [0,0.25,0.5],  # Minimum loss reduction\n",
    "    'min_child_weight': [5,7]  # Minimum sample weight in a leaf node\n",
    "}\n",
    "\n",
    "# Grid Search\n",
    "grid_search = GridSearchCV(estimator=xgb_model, param_grid=param_grid, cv=3, n_jobs=-1, verbose=2, scoring='neg_mean_squared_error')\n",
    "grid_search.fit(X_train, y_train)\n",
    "\n",
    "# Best parameters\n",
    "best_params = grid_search.best_params_\n",
    "print(\"Best parameters:\", best_params)\n",
    "\n",
    "#Pick the best model\n",
    "best_model = grid_search.best_estimator_\n"
   ]
  },
  {
   "cell_type": "code",
   "execution_count": 5,
   "metadata": {},
   "outputs": [
    {
     "name": "stdout",
     "output_type": "stream",
     "text": [
      "Best Parameters: {'gamma': 0, 'max_depth': 7, 'min_child_weight': 5, 'n_estimators': 50}\n",
      "RMSE for Feed Rate: 0.006205949154166953\n",
      "RMSE for Axial Depth: 0.18631783585572426\n",
      "RMSE for Radial Depth: 0.14279162629251405\n"
     ]
    }
   ],
   "source": [
    "# Training set predictions\n",
    "y_pred = grid_search.predict(X_test)\n",
    "\n",
    "# Inverse transform the scaled predictions and true values\n",
    "y_pred_unscaled = scaler_y.inverse_transform(y_pred)\n",
    "y_test_unscaled = scaler_y.inverse_transform(y_test)\n",
    "\n",
    "# RMSE Calculation\n",
    "rmse_feed_rate = np.sqrt(mean_squared_error(y_test_unscaled[:, 0], y_pred_unscaled[:, 0]))\n",
    "rmse_axial_depth = np.sqrt(mean_squared_error(y_test_unscaled[:, 1], y_pred_unscaled[:, 1]))\n",
    "rmse_radial_depth = np.sqrt(mean_squared_error(y_test_unscaled[:, 2], y_pred_unscaled[:, 2]))\n",
    "\n",
    "print(f\"Best Parameters: {grid_search.best_params_}\")\n",
    "print(f\"RMSE for Feed Rate: {rmse_feed_rate}\")\n",
    "print(f\"RMSE for Axial Depth: {rmse_axial_depth}\")\n",
    "print(f\"RMSE for Radial Depth: {rmse_radial_depth}\")"
   ]
  },
  {
   "cell_type": "code",
   "execution_count": 6,
   "metadata": {},
   "outputs": [
    {
     "name": "stdout",
     "output_type": "stream",
     "text": [
      "Correct classification rate(%5): 43.14%\n"
     ]
    }
   ],
   "source": [
    "\n",
    "\n",
    "# Adding error margin\n",
    "error_margin = 0.05\n",
    "y_pred_lower = y_pred_unscaled * (1 - error_margin)\n",
    "y_pred_upper = y_pred_unscaled * (1 + error_margin)\n",
    "\n",
    "# Function to determine given values are valid or not\n",
    "def is_within_error_margin(y_true, y_pred_lower, y_pred_upper):\n",
    "    return np.all((y_true >= y_pred_lower) & (y_true <= y_pred_upper), axis=1)\n",
    "\n",
    "# Accuracy rate calculation\n",
    "correct_classifications = is_within_error_margin(y_test_unscaled, y_pred_lower, y_pred_upper)\n",
    "accuracy = np.mean(correct_classifications) * 100\n",
    "\n",
    "print(f\"Correct classification rate(%5): {accuracy:.2f}%\")\n"
   ]
  },
  {
   "cell_type": "code",
   "execution_count": 7,
   "metadata": {},
   "outputs": [
    {
     "name": "stdout",
     "output_type": "stream",
     "text": [
      "Correct classification rate(%10): 77.59%\n"
     ]
    }
   ],
   "source": [
    "\n",
    "#Adding error margin\n",
    "error_margin = 0.1\n",
    "y_pred_lower = y_pred_unscaled * (1 - error_margin)\n",
    "y_pred_upper = y_pred_unscaled * (1 + error_margin)\n",
    "\n",
    "# Function to determine given values are valid or not\n",
    "def is_within_error_margin(y_true, y_pred_lower, y_pred_upper):\n",
    "    return np.all((y_true >= y_pred_lower) & (y_true <= y_pred_upper), axis=1)\n",
    "\n",
    "# Accuracy rate calculation\n",
    "correct_classifications = is_within_error_margin(y_test_unscaled, y_pred_lower, y_pred_upper)\n",
    "accuracy = np.mean(correct_classifications) * 100\n",
    "\n",
    "print(f\"Correct classification rate(%10): {accuracy:.2f}%\")\n"
   ]
  }
 ],
 "metadata": {
  "kernelspec": {
   "display_name": "Python 3",
   "language": "python",
   "name": "python3"
  },
  "language_info": {
   "codemirror_mode": {
    "name": "ipython",
    "version": 3
   },
   "file_extension": ".py",
   "mimetype": "text/x-python",
   "name": "python",
   "nbconvert_exporter": "python",
   "pygments_lexer": "ipython3",
   "version": "3.12.1"
  }
 },
 "nbformat": 4,
 "nbformat_minor": 2
}
